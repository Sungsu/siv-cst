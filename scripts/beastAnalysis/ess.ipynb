{
 "cells": [
  {
   "cell_type": "code",
   "execution_count": 1,
   "metadata": {
    "collapsed": true
   },
   "outputs": [],
   "source": [
    "import numpy\n",
    "import pandas as pd\n",
    "import math"
   ]
  },
  {
   "cell_type": "code",
   "execution_count": 2,
   "metadata": {
    "collapsed": true
   },
   "outputs": [],
   "source": [
    "def getESS(data, burninPerc=0, thin=None):\n",
    "    \"\"\"Effective sample size, as computed by BEAST Tracer, stolen from biopy via Gytis via someone else :D\"\"\"\n",
    "\n",
    "    burnin = int(math.floor(burninPerc*len(data)/100.0))\n",
    "    data = data[burnin:]\n",
    "\n",
    "    if thin != None:\n",
    "        data = data[0:len(data):max(len(data)/thin,1)]\n",
    "\n",
    "    samples = len(data)\n",
    "\n",
    "    assert len(data) > 1,\"no stats for short sequences\"\n",
    "\n",
    "    maxLag = min(samples//3, 1000)\n",
    "\n",
    "    gammaStat = [0,]*maxLag\n",
    "\n",
    "    varStat = 0.0\n",
    "\n",
    "    if type(data) != numpy.ndarray :\n",
    "        data = numpy.array(data)\n",
    "\n",
    "    normalizedData = data - data.mean()\n",
    "\n",
    "    for lag in range(maxLag) :\n",
    "        v1 = normalizedData[:samples-lag]\n",
    "        v2 = normalizedData[lag:]\n",
    "        v = v1 * v2\n",
    "        gammaStat[lag] = sum(v) / len(v)\n",
    "\n",
    "        if lag == 0 :\n",
    "            varStat = gammaStat[0]\n",
    "        elif lag % 2 == 0 :\n",
    "            s = gammaStat[lag-1] + gammaStat[lag]\n",
    "            if s > 0 :\n",
    "                varStat += 2.0*s\n",
    "            else:\n",
    "                break\n",
    "\n",
    "    if varStat > 0:\n",
    "        return samples * gammaStat[0] / varStat\n",
    "    else:\n",
    "        return float(\"nan\")"
   ]
  },
  {
   "cell_type": "code",
   "execution_count": 4,
   "metadata": {
    "collapsed": false
   },
   "outputs": [],
   "source": [
    "log_data = pd.read_csv('../../beast/pruned/discreteTraits/pruned_combined_10mBurnin.log', comment='#', sep=\"\\t\", index_col='state')\t#parse the log file as a df\n"
   ]
  },
  {
   "cell_type": "code",
   "execution_count": 5,
   "metadata": {
    "collapsed": false
   },
   "outputs": [],
   "source": [
    "ESS_vals = log_data.apply(getESS)"
   ]
  },
  {
   "cell_type": "code",
   "execution_count": 7,
   "metadata": {
    "collapsed": false
   },
   "outputs": [],
   "source": [
    "ESS_vals.to_csv('../../beast/pruned/discreteTraits/results/ess.csv')"
   ]
  },
  {
   "cell_type": "code",
   "execution_count": null,
   "metadata": {
    "collapsed": true
   },
   "outputs": [],
   "source": []
  }
 ],
 "metadata": {
  "kernelspec": {
   "display_name": "Python 2",
   "language": "python",
   "name": "python2"
  },
  "language_info": {
   "codemirror_mode": {
    "name": "ipython",
    "version": 2
   },
   "file_extension": ".py",
   "mimetype": "text/x-python",
   "name": "python",
   "nbconvert_exporter": "python",
   "pygments_lexer": "ipython2",
   "version": "2.7.10"
  }
 },
 "nbformat": 4,
 "nbformat_minor": 2
}
