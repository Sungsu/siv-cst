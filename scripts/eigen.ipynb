{
 "cells": [
  {
   "cell_type": "code",
   "execution_count": 4,
   "metadata": {
    "collapsed": false
   },
   "outputs": [
    {
     "name": "stdout",
     "output_type": "stream",
     "text": [
      "Human                        0.001184\n",
      "Gorilla                      0.011741\n",
      "Sykes_Monkey                 0.015481\n",
      "Chimp_ptt                    0.015717\n",
      "Western_red_colobus          0.016095\n",
      "Sooty_Mangabey               0.016124\n",
      "Chimp_pts                    0.016555\n",
      "DeBrazzas_Monkey             0.017710\n",
      "Colobus_Monkey               0.017762\n",
      "Mandrill                     0.023602\n",
      "Red-tailed_Guenon            0.027118\n",
      "Talapoin_Monkey              0.029445\n",
      "LHoests_Monkey               0.029585\n",
      "Sun-tailed_Monkey            0.029882\n",
      "Red-eared_Guenon             0.033150\n",
      "Greater_Spot-nosed_Monkey    0.034942\n",
      "Grivet                       0.035776\n",
      "Mona_Monkey                  0.049753\n",
      "Vervet                       0.057692\n",
      "Mustached_Monkey             0.059708\n",
      "Red-capped_Mangabey          0.102879\n",
      "Sabaeus_Monkey               0.105720\n",
      "Baboon                       0.114979\n",
      "Tantalus_Monkey              0.137401\n",
      "dtype: float64\n"
     ]
    },
    {
     "name": "stderr",
     "output_type": "stream",
     "text": [
      "/Library/Python/2.7/site-packages/ipykernel/__main__.py:28: ComplexWarning: Casting complex values to real discards the imaginary part\n",
      "/Library/Python/2.7/site-packages/ipykernel/__main__.py:30: ComplexWarning: Casting complex values to real discards the imaginary part\n"
     ]
    }
   ],
   "source": [
    "import pandas as pd\n",
    "import numpy as np\n",
    "import pickle\n",
    "\n",
    "actualRates = pd.read_csv('../beast/main/discreteTraits/results/discreteTraits_2016-10-25_actualRates.csv', index_col=0, header=0).T\n",
    "\n",
    "s = actualRates.sum(axis=0) # Series of the sum of each row\n",
    "maxRate = s.max() # Max row sum value\n",
    "\n",
    "def normalize(x, total):\n",
    "    if total == 0:\n",
    "        return x\n",
    "    else:\t\t\t\t\t\t\t\t\t\n",
    "        return np.float64(x) / np.float64(total)\n",
    "\n",
    "for host, row in actualRates.iterrows(): # Iterate over rows   \n",
    "    total = row.sum() \n",
    "    extra = maxRate - total\n",
    "    # Add to diagonals so all row totals are equal\n",
    "    row = row.fillna(extra) \n",
    "    \n",
    "    # Normalize so each row sums to 1\n",
    "    actualRates.loc[host,:] = row.apply(normalize, args=(maxRate,)) \n",
    "\n",
    "eigenValues, eigenVectors  = np.linalg.eig(actualRates.T) # NOT SORTED\n",
    "rearrangedEvalsVecs = sorted(zip(eigenValues,eigenVectors.T), key=lambda x: x[0].real, reverse=True) #thanks stack overflow\n",
    "principleEigenVector = rearrangedEvalsVecs[0][1]\n",
    "total = float(principleEigenVector.sum())\n",
    "\n",
    "principleEigenVector = pd.Series([ float(x) / total for x in principleEigenVector ], index = actualRates.index.values)\n",
    "principleEigenVector.sort_values(inplace=True)\n",
    "print principleEigenVector\n"
   ]
  },
  {
   "cell_type": "code",
   "execution_count": 6,
   "metadata": {
    "collapsed": false
   },
   "outputs": [],
   "source": [
    "principleEigenVector = { host: score for host, score in principleEigenVector.iteritems() }\n",
    "pickle.dump(principleEigenVector, open('../figures/sizes.p', 'wb'))"
   ]
  },
  {
   "cell_type": "code",
   "execution_count": null,
   "metadata": {
    "collapsed": true
   },
   "outputs": [],
   "source": []
  }
 ],
 "metadata": {
  "kernelspec": {
   "display_name": "Python 2",
   "language": "python",
   "name": "python2"
  },
  "language_info": {
   "codemirror_mode": {
    "name": "ipython",
    "version": 2
   },
   "file_extension": ".py",
   "mimetype": "text/x-python",
   "name": "python",
   "nbconvert_exporter": "python",
   "pygments_lexer": "ipython2",
   "version": "2.7.10"
  }
 },
 "nbformat": 4,
 "nbformat_minor": 0
}
