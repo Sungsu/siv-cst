{
 "cells": [
  {
   "cell_type": "code",
   "execution_count": 1,
   "metadata": {
    "collapsed": false
   },
   "outputs": [],
   "source": [
    "import pandas as pd\n",
    "import numpy as np\n",
    "from matplotlib import pyplot as plt\n",
    "import seaborn as sns\n",
    "import pickle\n",
    "%matplotlib inline\n",
    "import scipy\n",
    "import statsmodels.api as sm"
   ]
  },
  {
   "cell_type": "code",
   "execution_count": 2,
   "metadata": {
    "collapsed": false
   },
   "outputs": [],
   "source": [
    "def getData(path):\n",
    "    df = pd.read_csv(path, sep=',', header=0, index_col=0)\n",
    "    return df\n",
    "\n",
    "names = pickle.load(open('../../data/hosts/common_names.p', 'rb')) # Convert between common and scientific names\n",
    "names['Chimp_pts'] = 'Pan_troglodytes_schweinfurthii'\n",
    "\n",
    "bmr = getData('../../data/hosts/body_mass_rawdata.csv') # body mass values\n",
    "hgd = getData('../../data/hosts/hostdistance_rawdata.csv') # host genetic distance\n",
    "hgd_names = { i: i.split('|')[2] for i in list(hgd.columns.values)+list(hgd.index.values) } # fix taxa -> host names\n",
    "hgd.rename(columns=hgd_names, index=hgd_names, inplace=True)\n",
    "hgd.rename(index={'P._t._schweinfurthii': 'Pan_troglodytes_schweinfurthii'}, \n",
    "           columns = {'P._t._schweinfurthii': 'Pan_troglodytes_schweinfurthii'},\n",
    "          inplace=True)\n",
    "\n",
    "bf = getData('../../beast/main/discreteTraits/results/discreteTraits_2016-10-25_bf.csv') # Bayes factors"
   ]
  },
  {
   "cell_type": "code",
   "execution_count": 3,
   "metadata": {
    "collapsed": false
   },
   "outputs": [],
   "source": [
    "data = [] # Make tidy data\n",
    "for from_host in bmr.index.values[1:]:\n",
    "    for to_host in bmr.index.values[1:]:\n",
    "        if from_host != to_host:\n",
    "            transmission = 1 if bf.at[names[from_host], names[to_host]] >= 36.0 else 0 # Code transmission as binary variable\n",
    "            bmr_val = bmr.at[from_host, 'mass'] / bmr.at[to_host, 'mass']\n",
    "            hgd_val = hgd.at[from_host, to_host]\n",
    "            data.append({ 'bmr': bmr_val, 'hgd': hgd_val, 'transmission': transmission, 'intercept': 1 } )\n",
    "            \n",
    "data = pd.DataFrame(data, columns=['transmission', 'intercept', 'bmr', 'hgd'])\n",
    "data['log_bmr'] = data['bmr'].map(np.log10)"
   ]
  },
  {
   "cell_type": "code",
   "execution_count": 13,
   "metadata": {
    "collapsed": false
   },
   "outputs": [],
   "source": [
    "def make_quantiles(df, column):\n",
    "    df['%s_quantiles'%column] = pd.qcut(df[column], 5, labels=range(5)) # Cut the data into quantiles (makes new categorical series column)\n",
    "    x_means = [] # [x value means for each quantile]\n",
    "    y_means = [] # [(y mean, (lower, upper 95% binary y CI)) for each quantile]\n",
    "    y_ci = []\n",
    "    \n",
    "    for q in range(5):\n",
    "        obs = df.loc[df['%s_quantiles'%column] == q] # observations in this quantile\n",
    "        n_obs = len(obs) # number of observations in quantile\n",
    "        n_transmissions = obs['transmission'].sum() # number of 1 values in quantile\n",
    "        xmean = obs[column].mean() # mean predictor value in this quantile\n",
    "        ymean = float(n_transmissions) / float(n_obs)\n",
    "        ystddev = np.sqrt(float(n_obs)*ymean*(1-ymean))\n",
    "        y95ci = 1.96*(ystddev/np.sqrt(n_obs))\n",
    "        x_means.append(xmean)\n",
    "        y_means.append(ymean)\n",
    "        y_ci.append(y95ci)\n",
    "    return {'x': x_means, 'y': y_means, 'y_ci': y_ci}\n",
    "    \n",
    "log_bmr_quantiles = make_quantiles(data, 'log_bmr')\n",
    "hgd_quantiles = make_quantiles(data, 'hgd')\n",
    "# bmr_quantiles = make_quantiles(data, 'bmr')"
   ]
  },
  {
   "cell_type": "code",
   "execution_count": 14,
   "metadata": {
    "collapsed": false
   },
   "outputs": [
    {
     "name": "stdout",
     "output_type": "stream",
     "text": [
      "Optimization terminated successfully.\n",
      "         Current function value: 0.202398\n",
      "         Iterations 7\n",
      "Optimization terminated successfully.\n",
      "         Current function value: 0.184935\n",
      "         Iterations 8\n",
      "                           Logit Regression Results                           \n",
      "==============================================================================\n",
      "Dep. Variable:           transmission   No. Observations:                  506\n",
      "Model:                          Logit   Df Residuals:                      504\n",
      "Method:                           MLE   Df Model:                            1\n",
      "Date:                Mon, 09 Jan 2017   Pseudo R-squ.:               0.0008416\n",
      "Time:                        18:36:51   Log-Likelihood:                -102.41\n",
      "converged:                       True   LL-Null:                       -102.50\n",
      "                                        LLR p-value:                    0.6779\n",
      "==============================================================================\n",
      "                 coef    std err          z      P>|z|      [95.0% Conf. Int.]\n",
      "------------------------------------------------------------------------------\n",
      "log_bmr       -0.1251      0.301     -0.415      0.678        -0.716     0.465\n",
      "intercept     -2.9188      0.202    -14.453      0.000        -3.315    -2.523\n",
      "==============================================================================\n",
      "                           Logit Regression Results                           \n",
      "==============================================================================\n",
      "Dep. Variable:           transmission   No. Observations:                  506\n",
      "Model:                          Logit   Df Residuals:                      504\n",
      "Method:                           MLE   Df Model:                            1\n",
      "Date:                Mon, 09 Jan 2017   Pseudo R-squ.:                 0.08705\n",
      "Time:                        18:36:51   Log-Likelihood:                -93.577\n",
      "converged:                       True   LL-Null:                       -102.50\n",
      "                                        LLR p-value:                 2.396e-05\n",
      "==============================================================================\n",
      "                 coef    std err          z      P>|z|      [95.0% Conf. Int.]\n",
      "------------------------------------------------------------------------------\n",
      "hgd           -4.9234      1.383     -3.561      0.000        -7.633    -2.213\n",
      "intercept     -1.4423      0.380     -3.793      0.000        -2.188    -0.697\n",
      "==============================================================================\n"
     ]
    }
   ],
   "source": [
    "log_bmr_logit = sm.Logit(data['transmission'], data[['log_bmr', 'intercept']]).fit() # Logistic regression summary\n",
    "hgd_logit = sm.Logit(data['transmission'], data[['hgd', 'intercept']]).fit()\n",
    "print log_bmr_logit.summary()\n",
    "print hgd_logit.summary()"
   ]
  },
  {
   "cell_type": "code",
   "execution_count": 24,
   "metadata": {
    "collapsed": false
   },
   "outputs": [
    {
     "data": {
      "image/png": "[encoded data removed]",
      "text/plain": [
       "<matplotlib.figure.Figure at 0x113c762d0>"
      ]
     },
     "metadata": {},
     "output_type": "display_data"
    }
   ],
   "source": [
    "fig, (bmr_ax, hgd_ax) = plt.subplots(figsize=(7.5,3),nrows=1,ncols=2, facecolor='white')\n",
    "\n",
    "bmr_ax.plot(log_bmr_quantiles['x'], log_bmr_quantiles['y'], 'o-', color='#83BA70')\n",
    "hgd_ax.plot(hgd_quantiles['x'], hgd_quantiles['y'], 'o-', color='#83BA70')\n",
    "\n",
    "sns.regplot(data['log_bmr'], data['transmission'], ax=bmr_ax, \n",
    "                        line_kws = {'color':'#547BD3', 'alpha': 0.65, 'zorder': 10}, \n",
    "                        scatter_kws={'color': 'gray', 'alpha': 0.65, 'zorder': 10}, logistic=True) # Standard logistic regression plots, includes raw values\n",
    "sns.regplot(data['hgd'], data['transmission'], ax=hgd_ax,\n",
    "                        line_kws = {'color':'#547BD3', 'alpha': 0.65, 'zorder': 10}, \n",
    "                        scatter_kws={'color': 'gray', 'alpha': 0.65, 'zorder': 10}, logistic=True)\n",
    "\n",
    "hgd_ax.set_xlabel('Host Genetic Distance (Patristic)', size=12) # Label\n",
    "bmr_ax.set_ylabel('Transmission\\nWith BF >= 3.0', size=12)\n",
    "bmr_ax.set_xlabel('Log Body Mass Ratio (Donor/Recipient)', size=12)\n",
    "hgd_ax.set_ylabel(None, size=0)\n",
    "\n",
    "bmr_ax.tick_params(axis='both', which='major', labelsize=10, width=0.5, length=3, top=\"off\", right=\"off\")\n",
    "hgd_ax.tick_params(axis='both', which='major', labelsize=10, width=0.5, length=3, top=\"off\", right=\"off\")\n",
    "hgd_ax.spines['left'].set_linewidth(0.5)\n",
    "bmr_ax.spines['bottom'].set_linewidth(0.5)\n",
    "hgd_ax.spines['left'].set_linewidth(0.5)\n",
    "bmr_ax.spines['bottom'].set_linewidth(0.5)\n",
    "hgd_ax.spines['top'].set_linewidth(0.5)\n",
    "bmr_ax.spines['right'].set_linewidth(0.5)\n",
    "\n",
    "hgd_ax.set_ylim(-0.1, 1.1) # Format axes\n",
    "bmr_ax.set_ylim(-0.1, 1.1)\n",
    "\n",
    "sns.set_style('white')\n",
    "bmr_ax.set_title('A', fontsize=18, ha='left', x=-0.12, y=1.08, fontweight='bold')\n",
    "hgd_ax.set_title('B', fontsize=18, ha='left', x=0.0, y=1.08, fontweight='bold')\n",
    "\n",
    "plt.tight_layout()\n",
    "plt.savefig('../png/Fig4.png', bbox_inches='tight', dpi=600)\n"
   ]
  },
  {
   "cell_type": "markdown",
   "metadata": {
    "collapsed": true
   },
   "source": [
    "### Figure 4: Cross-species transmission is driven by exposure and constrained by host genetic distance.  \n",
    "For each pair of host species, we **(A)** calculated the log ratio of their average body masses and **(B)** found the patristic genetic distance between them (from a maximum-likelihood tree of mtDNA). To investigate the association of these predictors with cross-species transmission, we treated transmission as a binary variable: 0 if the Bayes factor for the transmission (as inferred by the discrete traits model) was < 3.0, and 1 for a Bayes factor >= 3.0. Each plot shows raw predictor data in gray; the quantiles of the predictor data in green; and the logistic regression and 95% CI in blue."
   ]
  },
  {
   "cell_type": "code",
   "execution_count": null,
   "metadata": {
    "collapsed": true
   },
   "outputs": [],
   "source": []
  }
 ],
 "metadata": {
  "kernelspec": {
   "display_name": "Python 2",
   "language": "python",
   "name": "python2"
  },
  "language_info": {
   "codemirror_mode": {
    "name": "ipython",
    "version": 2
   },
   "file_extension": ".py",
   "mimetype": "text/x-python",
   "name": "python",
   "nbconvert_exporter": "python",
   "pygments_lexer": "ipython2",
   "version": "2.7.10"
  }
 },
 "nbformat": 4,
 "nbformat_minor": 0
}
