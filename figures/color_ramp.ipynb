{
 "cells": [
  {
   "cell_type": "code",
   "execution_count": 1,
   "metadata": {
    "collapsed": true
   },
   "outputs": [],
   "source": [
    "import matplotlib.pyplot as plt\n",
    "import matplotlib.cm as cm # colormaps\n",
    "import seaborn as sns\n",
    "from matplotlib.colors import LinearSegmentedColormap\n",
    "import numpy as np\n",
    "\n",
    "%matplotlib inline"
   ]
  },
  {
   "cell_type": "code",
   "execution_count": 2,
   "metadata": {
    "collapsed": false
   },
   "outputs": [],
   "source": [
    "# Set the order of hosts\n",
    "hostOrder = {\n",
    "'Gorilla_gorilla':0,\n",
    "'Gorilla':0,\n",
    "'GOR':0,\n",
    "'Homo_sapiens':1,\n",
    "'Human':1,\n",
    "'HIV':1,\n",
    "'Pan_troglodytes_troglodytes':2,\n",
    "'Chimp_ptt':2,\n",
    "'Pan_troglodytes_schweinfurthii':2,\n",
    "'Chimp_pts':2,\n",
    "'P._t._schweinfurthii':2,\n",
    "'CPZ':2,\n",
    "'Colobus_guereza':3,\n",
    "'Colobus_Monkey':3,\n",
    "'COL':3,\n",
    "'Piliocolobus_badius':4,\n",
    "'Western_red_colobus':4,\n",
    "'WRC': 4,\n",
    "'OLC':4,\n",
    "'Cercocebus_atys':5,\n",
    "'Sooty_Mangabey':5,\n",
    "'SMM':5,\n",
    "'Cercocebus_torquatus':6,\n",
    "'Red-capped_Mangabey':6,\n",
    "'RCM':6,\n",
    "'Mandrillus_sphinx':7,\n",
    "'Mandrill':7,\n",
    "'DRL':7,\n",
    "'MND':7,\n",
    "'Papio_cynocephalus':8,\n",
    "'Baboon':8,\n",
    "'Miopithecus_ogouensis':9,\n",
    "'Talapoin_Monkey':9,\n",
    "'TAL':9,\n",
    "'Cercopithecus_aethiops_pygerythrus':10,\n",
    "'Vervet':10,\n",
    "'VER':10,\n",
    "'Cercopithecus_aethiops_aethiops':10,\n",
    "'Grivet':10,\n",
    "'GRV':10,\n",
    "'Cercopithecus_aethiops_tantalus':10,\n",
    "'Tantalus_Monkey':10,\n",
    "'TAN':10,\n",
    "'Cercopithecus_aethiops_sabaeus':10,\n",
    "'Sabaeus_Monkey':10,\n",
    "'SAB':10,\n",
    "'Cercopithecus_solatus':11,\n",
    "'Sun-tailed_Monkey':11,\n",
    "'SOL':11,\n",
    "'SUN':11,\n",
    "'Cercopithecus_lhoesti':12,\n",
    "'LHoests_Monkey':12,\n",
    "'LST':12,\n",
    "'Cercopithecus_erythrotis':13,\n",
    "'Red-eared_Guenon':13,\n",
    "'PRG':13,\n",
    "'REG':13,\n",
    "'Cercopithecus_ascanius':14,\n",
    "'Red-tailed_Guenon':14,\n",
    "'ASC':14,\n",
    "'Cercopithecus_cephus':15,\n",
    "'Mustached_Monkey':15,\n",
    "'MUS':15,\n",
    "'Cercopithecus_nictitans':16,\n",
    "'Greater_Spot-nosed_Monkey':16,\n",
    "'GSN':16,\n",
    "'Cercopithecus_albogularis':17,\n",
    "'Sykes_Monkey':17,\n",
    "'SYK':17,\n",
    "'Cercopithecus_mona':18,\n",
    "'Mona_Monkey':18,\n",
    "'MON':18,\n",
    "'DEN':18,\n",
    "'Cercopithecus_neglectus':19,\n",
    "'DeBrazzas_Monkey':19,\n",
    "'DEB':19}\n",
    "\n",
    "ncolors = float(max(hostOrder.values())) # total number of colors used"
   ]
  },
  {
   "cell_type": "code",
   "execution_count": 3,
   "metadata": {
    "collapsed": false
   },
   "outputs": [
    {
     "data": {
      "image/png": "[encoded data removed]",
      "text/plain": [
       "<matplotlib.figure.Figure at 0x117563390>"
      ]
     },
     "metadata": {},
     "output_type": "display_data"
    }
   ],
   "source": [
    "# colors = cm.viridis # Pick a color ramp\n",
    "# discreteColors = [\n",
    "# (166,206,227),\n",
    "# (31,120,180),\n",
    "# (178,223,138),\n",
    "# (51,160,44),\n",
    "# (251,154,153),\n",
    "# (227,26,28),\n",
    "# (253,191,111),\n",
    "# (255,127,0),\n",
    "# (202,178,214),\n",
    "# (106,61,154)]\n",
    "\n",
    "discreteColors=[\"#781C86\", \"#541EA6\", \"#4333BE\", \"#3F51CC\", \"#416ECE\", \"#4887C6\", \n",
    "\"#539BB5\", \"#60AA9F\", \"#70B487\", \"#83BA70\", \"#98BD5E\", \"#AEBD50\",\n",
    "\"#C3BA46\", \"#D4B13F\", \"#E0A13A\", \"#E68A35\", \"#E56B2F\", \"#DF4628\", \n",
    "\"#DB2122\"]\n",
    "\n",
    "\n",
    "# discreteColors = [\"#426FCE\", \"#4B8DC2\", \"#59A3AA\", \"#6BB18D\", \"#82BA71\", \"#9CBE5B\", \"#B7BD4B\", \"#CFB541\", \"#DFA43B\", \"#E68735\", \"#E35E2D\", \"#DD3124\"]\n",
    "\n",
    "\n",
    "# Create the colormap\n",
    "colors = LinearSegmentedColormap.from_list('colors', discreteColors, N=ncolors) # Discretizes the interpolation into bins\n",
    "# Fewer bins will result in \"coarser\" colomap interpolation\n",
    "\n",
    "gradient = np.linspace(0, 1, 256)\n",
    "gradient = np.vstack((gradient, gradient))\n",
    "\n",
    "\n",
    "fig, ax = plt.subplots()\n",
    "\n",
    "ax.imshow(gradient, aspect='auto', cmap=colors)\n",
    "\n",
    "# Turn off *all* ticks & spines, not just the ones with colormaps.\n",
    "ax.set_axis_off()\n",
    "\n",
    "plt.show()"
   ]
  },
  {
   "cell_type": "code",
   "execution_count": 4,
   "metadata": {
    "collapsed": false
   },
   "outputs": [],
   "source": [
    "# { 'host': (redFloat, greenFloat, blueFloat, alphaFloat)} ## alpha is transparency\n",
    "hostColors = { host: float(index)/ncolors for host,index in hostOrder.items() } # Convert host order to be scaled between 0 and 1\n",
    "hostColors = { host: colors(index) for host, index in hostColors.items() } # Pull the RGB tuple by scaled index from the color ramp.\n",
    "# print hostColors"
   ]
  },
  {
   "cell_type": "code",
   "execution_count": 5,
   "metadata": {
    "collapsed": false
   },
   "outputs": [],
   "source": [
    "import pickle\n",
    "\n",
    "pickle.dump(hostColors, open(\"colors.p\", \"wb\")) # Save the dictionary itself"
   ]
  },
  {
   "cell_type": "code",
   "execution_count": 8,
   "metadata": {
    "collapsed": false
   },
   "outputs": [
    {
     "name": "stdout",
     "output_type": "stream",
     "text": [
      "(0.25393500000000002, 0.26525399999999999, 0.52998299999999998, 1.0)\n",
      "(0.10157400000000001, 0.1061016, 0.21199319999999999)\n",
      "(0.25393500000000002, 0.26525399999999999, 0.52998299999999998, 0.7)\n"
     ]
    },
    {
     "data": {
      "image/png": "[encoded data removed]",
      "text/plain": [
       "<matplotlib.figure.Figure at 0x115393e10>"
      ]
     },
     "metadata": {},
     "output_type": "display_data"
    }
   ],
   "source": [
    "## Examples\n",
    "\n",
    "c = colors(0.2) # Pull the color at this index of the color map\n",
    "print c\n",
    "\n",
    "saturation = 0.4 # Note that saturation is different than alpha (opacity)\n",
    "c_desat = tuple([i*saturation for i in c[:3]] )\n",
    "print c_desat\n",
    "\n",
    "transparency = 0.7\n",
    "c_transparent = list(c)\n",
    "c_transparent[-1] = transparency # Make the RGBA tuple mutable, change the last value (alpha)\n",
    "c_transparent = tuple(c_transparent) # Must be tuple for plotting\n",
    "print c_transparent\n",
    "\n",
    "circle1 = plt.Circle((0.2, 0.5), 0.1, color=c)\n",
    "circle2 = plt.Circle((0.5,0.5), 0.1, color=c_desat)\n",
    "circle3 = plt.Circle((0.8,0.5), 0.1, color=c_transparent)\n",
    "fig, ax = plt.subplots() # note we must use plt.subplots, not plt.subplot\n",
    "ax.add_artist(circle1)\n",
    "ax.add_artist(circle2)\n",
    "ax.add_artist(circle3)\n",
    "\n",
    "plt.show()"
   ]
  },
  {
   "cell_type": "code",
   "execution_count": null,
   "metadata": {
    "collapsed": true
   },
   "outputs": [],
   "source": []
  }
 ],
 "metadata": {
  "kernelspec": {
   "display_name": "Python 2",
   "language": "python",
   "name": "python2"
  },
  "language_info": {
   "codemirror_mode": {
    "name": "ipython",
    "version": 2
   },
   "file_extension": ".py",
   "mimetype": "text/x-python",
   "name": "python",
   "nbconvert_exporter": "python",
   "pygments_lexer": "ipython2",
   "version": "2.7.10"
  }
 },
 "nbformat": 4,
 "nbformat_minor": 0
}
