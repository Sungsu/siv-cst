{
 "cells": [
  {
   "cell_type": "code",
   "execution_count": 6,
   "metadata": {
    "collapsed": false
   },
   "outputs": [],
   "source": [
    "import pandas as pd\n",
    "from matplotlib import pyplot as plt\n",
    "import seaborn as sns\n",
    "%matplotlib inline\n",
    "sns.set_style('white')"
   ]
  },
  {
   "cell_type": "code",
   "execution_count": 7,
   "metadata": {
    "collapsed": false
   },
   "outputs": [
    {
     "data": {
      "image/png": "[encoded data removed]",
      "text/plain": [
       "<matplotlib.figure.Figure at 0x11826b810>"
      ]
     },
     "metadata": {},
     "output_type": "display_data"
    }
   ],
   "source": [
    "colors = ['w']+['g' for g in range(19)]\n",
    "main_counts = [i for i in [1, 25, 25, 7, 25, 25, 25, 6, 6, 11, 22, 5, 1, 5, 17, 7, 2, 6, 16, 3, 1, 25, 24, 1, 3, 32, 8, 25, 25, 25, 2, 25, 4] if i >= 5]\n",
    "supplement_counts = [40,27,40,40,40,22,16,16,40,34,52,40,40,34,29]\n",
    "fig, (main_ax, supp_ax) = plt.subplots(figsize=(7.5,3), nrows=1, ncols=2, facecolor='w')\n",
    "\n",
    "sns.distplot(main_counts, color='g', bins=20, kde=False, ax=main_ax)\n",
    "sns.distplot(supplement_counts, color='g', bins=20, kde=False, ax=supp_ax)\n",
    "\n",
    "main_ax.set_xlabel('Main dataset:\\nSequences per host', size=12)\n",
    "supp_ax.set_xlabel('Supplemental dataset:\\nSequences per host', size=12)\n",
    "main_ax.set_ylabel('Number of hosts', size=12)\n",
    "supp_ax.set_ylabel(None, visible=False, size=12)\n",
    "main_ax.set_title('A', fontsize=18, ha='left', x=-0.12, y=1.08, fontweight='bold')\n",
    "supp_ax.set_title('B', fontsize=18, ha='left', x=-0.12, y=1.08, fontweight='bold')\n",
    "\n",
    "main_ax.set_xlim(0, 53)\n",
    "supp_ax.set_xlim(0, 53)\n",
    "main_ax.set_ylim(0, 12)\n",
    "supp_ax.set_ylim(0, 12)\n",
    "\n",
    "main_ax.tick_params(axis='both', which='major', labelsize=10, width=0.5, length=3, top=\"off\", right=\"off\")\n",
    "supp_ax.tick_params(axis='both', which='major', labelsize=10, width=0.5, length=3, top=\"off\", right=\"off\")\n",
    "\n",
    "main_ax.spines['left'].set_linewidth(0.5)\n",
    "main_ax.spines['bottom'].set_linewidth(0.5)\n",
    "supp_ax.spines['left'].set_linewidth(0.5)\n",
    "supp_ax.spines['bottom'].set_linewidth(0.5)\n",
    "supp_ax.spines['top'].set_linewidth(0.5)\n",
    "supp_ax.spines['right'].set_linewidth(0.5)\n",
    "\n",
    "plt.tight_layout()\n",
    "plt.savefig('../png/FigS3.png', bbox_inches='tight', dpi=600)"
   ]
  },
  {
   "cell_type": "markdown",
   "metadata": {
    "collapsed": true
   },
   "source": [
    "#### Figure S3 Distribution of the number of sequences per host included in analyses\n",
    "A: All available high-quality lentivirus sequences were randomly subsampled up to 25 sequences per host for the main dataset. We included the 24 hosts with at least 5 sequences available in this dataset. B: For the supplemental dataset, we randomly subsampled up to 40 sequences per host, and included the 15 hosts with at least 16 sequences available in this dataset. For both datasets, a small number of additional sequences were permitted for the few hosts that are infected by multiple viral lineages in order to represent the full breadth of known genetic diversity of lentiviruses in each host population."
   ]
  },
  {
   "cell_type": "code",
   "execution_count": null,
   "metadata": {
    "collapsed": true
   },
   "outputs": [],
   "source": []
  }
 ],
 "metadata": {
  "kernelspec": {
   "display_name": "Python 2",
   "language": "python",
   "name": "python2"
  },
  "language_info": {
   "codemirror_mode": {
    "name": "ipython",
    "version": 2
   },
   "file_extension": ".py",
   "mimetype": "text/x-python",
   "name": "python",
   "nbconvert_exporter": "python",
   "pygments_lexer": "ipython2",
   "version": "2.7.10"
  }
 },
 "nbformat": 4,
 "nbformat_minor": 0
}
